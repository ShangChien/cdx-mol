{
 "cells": [
  {
   "cell_type": "code",
   "execution_count": 18,
   "metadata": {},
   "outputs": [],
   "source": [
    "from rdkit import Chem\n",
    "from pycdxml import cdxml_slide_generator, cdxml_converter\n",
    "smis= [\"c1ccc2c(c1)oc1c(-c3c(-c4cccc5oc6ccccc6c45)c(-c4cccc5oc6ccccc6c45)cc4c3oc3c(-c5cccc6c5oc5ccccc56)c(-c5cccc6oc7ccccc7c56)c(-c5cccc6oc7ccccc7c56)cc34)cccc12\",\"c1ccc2c(c1)oc1c(-c3c(-c4cccc5oc6ccccc6c45)c(-c4cccc5oc6ccccc6c45)cc4c3oc3c(-c5cccc6c5oc5ccccc56)c(-c5cccc6oc7ccccc7c56)cc(-c5cccc6c5oc5ccccc56)c34)cccc12\",\"c1ccc2c(c1)oc1c(-c3c(-c4cccc5oc6ccccc6c45)c(-c4cccc5oc6ccccc6c45)cc4c3oc3c(-c5cccc6c5oc5ccccc56)c(-c5cccc6oc7ccccc7c56)cc(-c5cccc6c5oc5ccccc56)c34)cccc12\",\"c1ccc2c(c1)oc1c(-c3c(-c4cccc5oc6ccccc6c45)c(-c4cccc5oc6ccccc6c45)cc4c3oc3c(-c5cccc6c5oc5ccccc56)c(-c5cccc6oc7ccccc7c56)cc(-c5cccc6oc7ccccc7c56)c34)cccc12\"]\n",
    "cdk2 = [Chem.MolFromSmiles(smi) for smi in smis]\n",
    "cdxmls = []\n",
    "for mol in cdk2:     \n",
    "    cdxml = cdxml_converter.mol_to_document(mol).to_cdxml()\n",
    "    cdxmls.append(cdxml)\n",
    "sg = cdxml_slide_generator.CDXMLSlideGenerator(style=\"ACS 1996\", number_of_properties=2, columns=2, rows=3)\n",
    "slide = sg.generate_slide(cdxmls,[[],[],[],[]])\n",
    "with open(\"slide.cdxml\", \"w\", encoding='UTF-8') as xf:\n",
    "    xf.write(slide)"
   ]
  },
  {
   "cell_type": "code",
   "execution_count": null,
   "metadata": {},
   "outputs": [],
   "source": []
  }
 ],
 "metadata": {
  "kernelspec": {
   "display_name": "Python 3.8.13 ('base')",
   "language": "python",
   "name": "python3"
  },
  "language_info": {
   "codemirror_mode": {
    "name": "ipython",
    "version": 3
   },
   "file_extension": ".py",
   "mimetype": "text/x-python",
   "name": "python",
   "nbconvert_exporter": "python",
   "pygments_lexer": "ipython3",
   "version": "3.8.13"
  },
  "orig_nbformat": 4,
  "vscode": {
   "interpreter": {
    "hash": "a04f5d07b0747026a8fbcdf50b9443318e69b1b8bd6247d88bfadb4789282972"
   }
  }
 },
 "nbformat": 4,
 "nbformat_minor": 2
}
